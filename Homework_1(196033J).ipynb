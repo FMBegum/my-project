{
  "nbformat": 4,
  "nbformat_minor": 0,
  "metadata": {
    "colab": {
      "name": "Homework 1(196033J).ipynb",
      "provenance": [],
      "collapsed_sections": []
    },
    "kernelspec": {
      "name": "python3",
      "display_name": "Python 3"
    },
    "language_info": {
      "name": "python"
    }
  },
  "cells": [
    {
      "cell_type": "markdown",
      "source": [
        "**Question 1.**\n",
        "\n",
        "**Consider the two numbers a = 2.7180 and b = 4.52.**\n",
        "\n",
        "**(a) How many significant digits are there in the two numbers a and b?**"
      ],
      "metadata": {
        "id": "SJ43SAWcYwHu"
      }
    },
    {
      "cell_type": "markdown",
      "source": [
        "a=2.7180 has 5 significant digits.\n",
        "\n",
        "b=4.52 has 3 significant digits."
      ],
      "metadata": {
        "id": "ks780Vr4dti-"
      }
    },
    {
      "cell_type": "markdown",
      "source": [
        "**(b) Perform the following calculations subject to the rules for arithmetic operations with significant digits.**"
      ],
      "metadata": {
        "id": "DRt61TTzeRqV"
      }
    },
    {
      "cell_type": "markdown",
      "source": [
        "(i) a + b"
      ],
      "metadata": {
        "id": "IQT_Slb2eZLe"
      }
    },
    {
      "cell_type": "code",
      "source": [
        "a=2.7180\n",
        "b=4.52\n",
        "c=a+b\n",
        "round(c,2)"
      ],
      "metadata": {
        "colab": {
          "base_uri": "https://localhost:8080/"
        },
        "id": "tfHNXhTI69Xi",
        "outputId": "547c76ac-4f1e-4fd0-9734-9681e6eecc26"
      },
      "execution_count": null,
      "outputs": [
        {
          "output_type": "execute_result",
          "data": {
            "text/plain": [
              "7.24"
            ]
          },
          "metadata": {},
          "execution_count": 1
        }
      ]
    },
    {
      "cell_type": "markdown",
      "source": [
        "(ii) a - b"
      ],
      "metadata": {
        "id": "kZNj9E_S7sND"
      }
    },
    {
      "cell_type": "code",
      "source": [
        "c=a-b\n",
        "round(c,2)"
      ],
      "metadata": {
        "colab": {
          "base_uri": "https://localhost:8080/"
        },
        "id": "HZG1c49e7yPf",
        "outputId": "82f62774-6217-4552-fbf5-f5760c0f6afd"
      },
      "execution_count": null,
      "outputs": [
        {
          "output_type": "execute_result",
          "data": {
            "text/plain": [
              "-1.8"
            ]
          },
          "metadata": {},
          "execution_count": 2
        }
      ]
    },
    {
      "cell_type": "markdown",
      "source": [
        "(iii) a * b"
      ],
      "metadata": {
        "id": "NJ7OTnkS8BpG"
      }
    },
    {
      "cell_type": "code",
      "source": [
        "a=2.7180\n",
        "b=4.52\n",
        "c=a*b\n",
        "from math import log10, floor\n",
        "def round_it(x, sig):\n",
        "  return round(x, sig-int(floor(log10(abs(x))))-1)\n",
        "\n",
        "\n",
        "print(round_it(c,3))"
      ],
      "metadata": {
        "colab": {
          "base_uri": "https://localhost:8080/"
        },
        "id": "kC--IwxK8Mkt",
        "outputId": "0c2ce9f1-425a-48cf-dcfe-153f42299081"
      },
      "execution_count": null,
      "outputs": [
        {
          "output_type": "stream",
          "name": "stdout",
          "text": [
            "12.3\n"
          ]
        }
      ]
    },
    {
      "cell_type": "markdown",
      "source": [
        "(iv) a/b"
      ],
      "metadata": {
        "id": "97UYHXYl8qIS"
      }
    },
    {
      "cell_type": "code",
      "source": [
        "a=2.7180\n",
        "b=4.52\n",
        "c=a/b\n",
        "from math import log10, floor\n",
        "def round_it(x, sig):\n",
        "  return round(x, sig-int(floor(log10(abs(x))))-1)\n",
        "\n",
        "\n",
        "print(round_it(c,3))"
      ],
      "metadata": {
        "colab": {
          "base_uri": "https://localhost:8080/"
        },
        "id": "MsYT_g2R8zAV",
        "outputId": "782db7f3-0838-40e6-e73a-aa22b8d6db2d"
      },
      "execution_count": null,
      "outputs": [
        {
          "output_type": "stream",
          "name": "stdout",
          "text": [
            "0.601\n"
          ]
        }
      ]
    },
    {
      "cell_type": "markdown",
      "source": [
        "**(c) Assuming a is an approximate to the number e rounded to five decimal places, calculate the absolute error, the relative error, and the percentage error in the approximation of e by a.**"
      ],
      "metadata": {
        "id": "1MAtB5_Y9Gco"
      }
    },
    {
      "cell_type": "code",
      "source": [
        "a=2.7180 #approximate\n",
        "e=2.71828 #true value\n",
        "\n",
        "#calculate the absolute error\n",
        "#to find absolute error subtract the real value from approximated value\n",
        "print(\"absolute error: \",round(abs(e-a),4)) #rounding off is applied based on the Rules for Arithmetic Operations with Significant Digits"
      ],
      "metadata": {
        "colab": {
          "base_uri": "https://localhost:8080/"
        },
        "id": "ffjWGDoP9LjS",
        "outputId": "af206939-5a3c-470e-c73a-e4fd4a858b17"
      },
      "execution_count": null,
      "outputs": [
        {
          "output_type": "stream",
          "name": "stdout",
          "text": [
            "absolute error:  0.0003\n"
          ]
        }
      ]
    },
    {
      "cell_type": "code",
      "source": [
        "#calculate the relative error\n",
        "#it is the absolute error divided by the real value\n",
        "z=0.003\n",
        "y=abs(z/e) #absolute error\n",
        "from math import log10, floor\n",
        "def round_it(x, sig):\n",
        "  return round(x, sig-int(floor(log10(abs(x))))-1)\n",
        "\n",
        "print(\"relative error: \",round_it(y,1)) #rounding off is applied based on the Rules for Arithmetic Operations with Significant Digits"
      ],
      "metadata": {
        "colab": {
          "base_uri": "https://localhost:8080/"
        },
        "id": "GL36KDXD_T-K",
        "outputId": "80928ae6-6973-40b5-a6e3-881691537492"
      },
      "execution_count": null,
      "outputs": [
        {
          "output_type": "stream",
          "name": "stdout",
          "text": [
            "relative error:  0.001\n"
          ]
        }
      ]
    },
    {
      "cell_type": "code",
      "source": [
        "#calculate the percentage error \n",
        "#relative error is converted into a percentage\n",
        "per= 0.001\n",
        "percentage=\"{:.2%}\".format(per)\n",
        "print(\"percentage error: \",percentage)"
      ],
      "metadata": {
        "colab": {
          "base_uri": "https://localhost:8080/"
        },
        "id": "MODSxoFtE6pp",
        "outputId": "b2dd3e88-1bda-455f-f9d0-89a70ed5edaf"
      },
      "execution_count": null,
      "outputs": [
        {
          "output_type": "stream",
          "name": "stdout",
          "text": [
            "percentage error:  0.10%\n"
          ]
        }
      ]
    },
    {
      "cell_type": "markdown",
      "source": [
        "**(d) Assuming a number b* approximates b with a relative error of at most 10^-3 find the interval in which b* lies.**\n",
        "\n",
        "To find the interval of b* we should consider the relative error in postive and negative terms\n",
        "\n",
        "b=4.52\n",
        "\n",
        "relative error=|b-b*|/|b *|                \n",
        "\n",
        "10^-3=|4.52-b*|/|b *|\n",
        "\n",
        "when we simply we get\n",
        "\n",
        "b*=4.52/(10^-3+1)\n",
        "\n",
        "---\n",
        "\n",
        "relative error= -|b-b*|/| b *|\n",
        "\n",
        "10^-3=-4.52+b * /b*\n",
        "\n",
        "(b *)(10^-3)=-4.52+b *\n",
        "\n",
        "b*(10^-3+1)= -4.52\n",
        "\n",
        "b*=|-4.52/((10^-3)-1)"
      ],
      "metadata": {
        "id": "0_EPn7o9GdpX"
      }
    },
    {
      "cell_type": "code",
      "source": [
        "#relative error is the absoulte error divide by the true value which b*\n",
        "b=4.52\n",
        "p=4.52/(10**-3+1)\n",
        "\n",
        "n=-4.52/(10**-3-1)\n",
        "print(\"interval in which b* lies: (\",p,\",\",n,\")\")"
      ],
      "metadata": {
        "colab": {
          "base_uri": "https://localhost:8080/",
          "height": 0
        },
        "id": "vh_H4NYZHJHM",
        "outputId": "d5add2ff-e498-4c69-a387-1a6330597ea0"
      },
      "execution_count": 6,
      "outputs": [
        {
          "output_type": "stream",
          "name": "stdout",
          "text": [
            "interval in which b* lies: ( 4.515484515484515 , 4.524524524524524 )\n"
          ]
        }
      ]
    },
    {
      "cell_type": "markdown",
      "source": [
        "**Question 2.**\n"
      ],
      "metadata": {
        "id": "E080q-mOT05V"
      }
    },
    {
      "cell_type": "markdown",
      "source": [
        "**(a) Obtain an approximate a1 for Pi by considering three terms of the Leibniz series representation. Round your answer to five significant digits.**"
      ],
      "metadata": {
        "id": "ojLW3WmCUkYy"
      }
    },
    {
      "cell_type": "code",
      "source": [
        "#calculation of an approximate a1 for Pi using Leibniz formula\n",
        "#Function to calculate\n",
        "def leibniz(n):\n",
        "  t_sum=0\n",
        "  for i in range(n):\n",
        "    term=(-1)**i/(2*i+1)\n",
        "    t_sum += term\n",
        "    \n",
        "  return t_sum*4\n",
        "\n",
        "#input no.of terms\n",
        "terms=int(input(\"Enter the no. of terms: \"))\n",
        "\n",
        "#function call\n",
        "pi=leibniz(terms)\n",
        "\n",
        "#output\n",
        "from math import log10, floor\n",
        "def round_it(x, sig):\n",
        "  return round(x, sig-int(floor(log10(abs(x))))-1)\n",
        "\n",
        "print(\"a1= \",round_it(pi,5))"
      ],
      "metadata": {
        "colab": {
          "base_uri": "https://localhost:8080/"
        },
        "id": "xiBxctPdU7u8",
        "outputId": "cddb894b-9f67-44b6-f745-aa8b0b3f40ab"
      },
      "execution_count": null,
      "outputs": [
        {
          "output_type": "stream",
          "name": "stdout",
          "text": [
            "Enter the no. of terms: 3\n",
            "a1=  3.4667\n"
          ]
        }
      ]
    },
    {
      "cell_type": "markdown",
      "source": [
        "**(b) Obtain an approximate a2 for Pi by considering four terms of the Leibniz series representation. Round your answer to five significant digits.**"
      ],
      "metadata": {
        "id": "NJVHhqVghi0H"
      }
    },
    {
      "cell_type": "code",
      "source": [
        "#calculation of an approximate a2 for Pi using Leibniz formula\n",
        "#Function to calculate\n",
        "def leibniz(n):\n",
        "  t_sum=0\n",
        "  for i in range(n):\n",
        "    term=(-1)**i/(2*i+1)\n",
        "    t_sum += term\n",
        "    \n",
        "  return t_sum*4\n",
        "\n",
        "#input no.of terms\n",
        "terms=int(input(\"Enter the no. of terms: \"))\n",
        "\n",
        "#function call\n",
        "pi=leibniz(terms)\n",
        "\n",
        "#output\n",
        "from math import log10, floor\n",
        "def round_it(x, sig):\n",
        "  return round(x, sig-int(floor(log10(abs(x))))-1)\n",
        "\n",
        "print(\"a2= \",round_it(pi,5))"
      ],
      "metadata": {
        "colab": {
          "base_uri": "https://localhost:8080/"
        },
        "id": "75k_DU6whxR8",
        "outputId": "4b72e95f-061a-4cca-dd1e-36cbe5953543"
      },
      "execution_count": null,
      "outputs": [
        {
          "output_type": "stream",
          "name": "stdout",
          "text": [
            "Enter the no. of terms: 4\n",
            "a2=  2.8952\n"
          ]
        }
      ]
    },
    {
      "cell_type": "markdown",
      "source": [
        "**(c) What is the term used to refer to the error involved in the approximations calculated in Parts (a) and (b) above?**"
      ],
      "metadata": {
        "id": "oqn_7ExriEG4"
      }
    },
    {
      "cell_type": "markdown",
      "source": [
        "Truncation error"
      ],
      "metadata": {
        "id": "YXAOY76yiRAb"
      }
    },
    {
      "cell_type": "markdown",
      "source": [
        "**(d)Calculate the approximate error, relative approximate error, and percentage approximate error with respect to the approximates a1 and a2.**"
      ],
      "metadata": {
        "id": "dpliCmzoixVC"
      }
    },
    {
      "cell_type": "code",
      "source": [
        "#calculate approximate error\n",
        "a1=3.4667\n",
        "a2=2.8952\n",
        "app=a2-a1\n",
        "print(\"approximate error: \",round(app,4))"
      ],
      "metadata": {
        "colab": {
          "base_uri": "https://localhost:8080/"
        },
        "id": "8VG1Vp82i6Jd",
        "outputId": "8a702627-e581-4a20-babe-82cb7c2dbdda"
      },
      "execution_count": null,
      "outputs": [
        {
          "output_type": "stream",
          "name": "stdout",
          "text": [
            "approximate error:  -0.5715\n"
          ]
        }
      ]
    },
    {
      "cell_type": "code",
      "source": [
        "#calculate relative approximate error\n",
        "rel=-0.5715/2.8952\n",
        "#rounding off to 4 significant digit\n",
        "from math import log10, floor\n",
        "def round_it(x, sig):\n",
        "  return round(x, sig-int(floor(log10(abs(x))))-1)\n",
        "\n",
        "print(\"relative approximate error: \",round_it(rel,4))"
      ],
      "metadata": {
        "colab": {
          "base_uri": "https://localhost:8080/"
        },
        "id": "kqkO5Jjek9sy",
        "outputId": "e735a90a-a4d1-4d0b-8a7f-b8225b6ec470"
      },
      "execution_count": null,
      "outputs": [
        {
          "output_type": "stream",
          "name": "stdout",
          "text": [
            "relative approximate error:  -0.1974\n"
          ]
        }
      ]
    },
    {
      "cell_type": "code",
      "source": [
        "#calculate percentage approximate error\n",
        "pert= -0.1974\n",
        "percentage=\"{:.2%}\".format(pert)\n",
        "print(\"percentage approximate error: \",percentage)"
      ],
      "metadata": {
        "colab": {
          "base_uri": "https://localhost:8080/"
        },
        "id": "d14r68i4nXfv",
        "outputId": "b6d4f7ac-946d-4605-def2-fa587aa8638d"
      },
      "execution_count": null,
      "outputs": [
        {
          "output_type": "stream",
          "name": "stdout",
          "text": [
            "percentage approximate error:  -19.74%\n"
          ]
        }
      ]
    },
    {
      "cell_type": "markdown",
      "source": [
        "**(d)Write a Python program that computes an approximation of Pi by summing n from 0 to 50 of the Leibniz series. Find the relative error by comparing this approximate value for Pi with the Pi value stored in Python. Round your answers to five significant digits.**"
      ],
      "metadata": {
        "id": "DHl-AkBXnuw6"
      }
    },
    {
      "cell_type": "code",
      "source": [
        "#calculation of an approximate a3 for Pi using Leibniz formula\n",
        "#Function to calculate\n",
        "def leibniz(n):\n",
        "  t_sum=0\n",
        "  for i in range(n):\n",
        "    term=(-1)**i/(2*i+1)\n",
        "    t_sum += term\n",
        "    \n",
        "  return t_sum*4\n",
        "\n",
        "#function call\n",
        "pi=leibniz(50)\n",
        "\n",
        "#output\n",
        "from math import log10, floor\n",
        "def round_it(x, sig):\n",
        "  return round(x, sig-int(floor(log10(abs(x))))-1)\n",
        "\n",
        "print(\"a3= \",round_it(pi,5))"
      ],
      "metadata": {
        "colab": {
          "base_uri": "https://localhost:8080/"
        },
        "id": "CyiGS13zoCKe",
        "outputId": "5785887d-1be1-4845-e305-f85b58a5cce5"
      },
      "execution_count": null,
      "outputs": [
        {
          "output_type": "stream",
          "name": "stdout",
          "text": [
            "a3=  3.1216\n"
          ]
        }
      ]
    },
    {
      "cell_type": "code",
      "source": [
        "#find the relative eror\n",
        "Pi=3.1416\n",
        "a3=3.1216\n",
        "Relative_error=(abs(a3-Pi))/Pi\n",
        "\n",
        "#rounding off\n",
        "from math import log10, floor\n",
        "def round_it(x, sig):\n",
        "  return round(x, sig-int(floor(log10(abs(x))))-1)\n",
        "\n",
        "print(\"Relative error = \",round_it(Relative_error,5))"
      ],
      "metadata": {
        "colab": {
          "base_uri": "https://localhost:8080/"
        },
        "id": "VXl4ZgbrpNWs",
        "outputId": "9e14ff8c-b65a-43c0-b044-1d483381d686"
      },
      "execution_count": null,
      "outputs": [
        {
          "output_type": "stream",
          "name": "stdout",
          "text": [
            "Relative error =  0.0063662\n"
          ]
        }
      ]
    },
    {
      "cell_type": "markdown",
      "source": [
        "**Question 3.**\n",
        "\n",
        "Let x = 0.65385 and y = 0.93263."
      ],
      "metadata": {
        "id": "03bfzvyRr45q"
      }
    },
    {
      "cell_type": "markdown",
      "source": [
        "**(a) Find the relative error in obtaining the product of x and y using three significant digits\n",
        "rounding calculation.**"
      ],
      "metadata": {
        "id": "dDQoRB8ot-ul"
      }
    },
    {
      "cell_type": "code",
      "source": [
        "x= 0.65385\n",
        "y = 0.93263\n",
        "Zt=x*y #True value\n",
        "from math import log10, floor\n",
        "def round_it(x, sig):\n",
        "  return round(x, sig-int(floor(log10(abs(x))))-1)\n",
        "\n",
        "#getting the product of x and for three significant digit\n",
        "Za=round_it(Zt,3) #Approximate value\n",
        "print(\"Za= \",Za)\n",
        "print(\"Zt= \",Zt)\n",
        "\n",
        "#relative error\n",
        "rel_error=abs((Zt-Za)/Zt)\n",
        "print( \"Relative error of the product of X and y are: \", rel_error)"
      ],
      "metadata": {
        "colab": {
          "base_uri": "https://localhost:8080/",
          "height": 0
        },
        "id": "U1Vr0sr3uD_P",
        "outputId": "dd198915-91bc-41ac-fe77-c6bf53937f4c"
      },
      "execution_count": 8,
      "outputs": [
        {
          "output_type": "stream",
          "name": "stdout",
          "text": [
            "Za=  0.61\n",
            "Zt=  0.6098001255000001\n",
            "Relative error of the product of X and y are:  0.00032777051306119993\n"
          ]
        }
      ]
    },
    {
      "cell_type": "markdown",
      "source": [
        "**(b) Do you observe that there is a loss of significant digits in the process of multiplication?\n",
        "Justify your answer.**"
      ],
      "metadata": {
        "id": "4A9LeYl0i_TB"
      }
    },
    {
      "cell_type": "markdown",
      "source": [
        "Yes, we can see that Za has only 3 significant digit with respect to Zt. Hence there's a loss of significant digits in the process of multplication"
      ],
      "metadata": {
        "id": "-1Ew6vnXjZO6"
      }
    }
  ]
}